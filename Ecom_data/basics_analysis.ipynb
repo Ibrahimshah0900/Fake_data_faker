{
 "cells": [
  {
   "cell_type": "code",
   "execution_count": 4,
   "id": "7ef6ca6d-b7e2-4569-9a6b-6e1ec7427f9e",
   "metadata": {},
   "outputs": [
    {
     "name": "stdout",
     "output_type": "stream",
     "text": [
      "Total Revenue: $60900\n",
      "Top Selling Product: Monitor\n",
      "Transactions by Date:\n",
      "Purchase Date\n",
      "2024-10-03    4\n",
      "2024-03-11    3\n",
      "2024-10-15    2\n",
      "2024-01-14    2\n",
      "2024-07-13    2\n",
      "             ..\n",
      "2024-08-07    1\n",
      "2024-09-14    1\n",
      "2024-01-15    1\n",
      "2024-02-17    1\n",
      "2024-02-01    1\n",
      "Name: count, Length: 85, dtype: int64\n"
     ]
    }
   ],
   "source": [
    "import pandas as pd\n",
    "\n",
    "# Load the data\n",
    "data = pd.read_csv(\"ecommerce_transactions.csv\")\n",
    "\n",
    "# Basic Analysis\n",
    "total_revenue = data[\"Price\"].sum()\n",
    "top_product = data[\"Product Name\"].value_counts().idxmax()\n",
    "transaction_counts = data[\"Purchase Date\"].str[:10].value_counts()\n",
    "\n",
    "print(f\"Total Revenue: ${total_revenue}\")\n",
    "print(f\"Top Selling Product: {top_product}\")\n",
    "print(\"Transactions by Date:\")\n",
    "print(transaction_counts)\n"
   ]
  },
  {
   "cell_type": "code",
   "execution_count": null,
   "id": "0b67efd6-1c7c-4fa6-85e6-739bd4459194",
   "metadata": {},
   "outputs": [],
   "source": []
  }
 ],
 "metadata": {
  "kernelspec": {
   "display_name": "Python 3 (ipykernel)",
   "language": "python",
   "name": "python3"
  },
  "language_info": {
   "codemirror_mode": {
    "name": "ipython",
    "version": 3
   },
   "file_extension": ".py",
   "mimetype": "text/x-python",
   "name": "python",
   "nbconvert_exporter": "python",
   "pygments_lexer": "ipython3",
   "version": "3.12.4"
  }
 },
 "nbformat": 4,
 "nbformat_minor": 5
}
