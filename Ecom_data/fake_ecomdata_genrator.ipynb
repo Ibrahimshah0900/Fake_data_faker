{
 "cells": [
  {
   "cell_type": "code",
   "execution_count": 23,
   "id": "ebc949a0-f1e3-4476-97d3-61a430bd25ce",
   "metadata": {},
   "outputs": [
    {
     "name": "stdout",
     "output_type": "stream",
     "text": [
      "Generated 100 transactions and saved to ecommerce_transactions.csv.\n"
     ]
    }
   ],
   "source": [
    "from faker import Faker\n",
    "import csv\n",
    "import random\n",
    "\n",
    "fake = Faker()\n",
    "\n",
    "# Define product catalog\n",
    "products = [\n",
    "    {\"name\": \"Laptop\", \"price\": 1200},\n",
    "    {\"name\": \"Headphones\", \"price\": 200},\n",
    "    {\"name\": \"Smartphone\", \"price\": 800},\n",
    "    {\"name\": \"Tablet\", \"price\": 600},\n",
    "    {\"name\": \"Monitor\", \"price\": 300},\n",
    "]\n",
    "\n",
    "# Generate transactions\n",
    "num_transactions = 100  # You can adjust this number\n",
    "transactions = []\n",
    "\n",
    "for _ in range(num_transactions):\n",
    "    product = random.choice(products)\n",
    "    transaction = {\n",
    "        \"Product Name\": product[\"name\"],\n",
    "        \"Price\": product[\"price\"],\n",
    "        \"Buyer Name\": fake.name(),\n",
    "        \"Buyer Email\": fake.email(),\n",
    "        \"Buyer Address\": fake.address(),\n",
    "        \"Purchase Date\": fake.date_time_this_year().strftime(\"%Y-%m-%d %H:%M:%S\"),\n",
    "    }\n",
    "    transactions.append(transaction)\n",
    "\n",
    "# Save to CSV\n",
    "csv_file = \"ecommerce_transactions.csv\"\n",
    "with open(csv_file, mode=\"w\", newline=\"\") as file:\n",
    "    writer = csv.DictWriter(file, fieldnames=transactions[0].keys())\n",
    "    writer.writeheader()\n",
    "    writer.writerows(transactions)\n",
    "\n",
    "print(f\"Generated {num_transactions} transactions and saved to {csv_file}.\")\n"
   ]
  },
  {
   "cell_type": "code",
   "execution_count": null,
   "id": "1e2e9079-8f34-4b8b-8303-0a74cebb7b9a",
   "metadata": {},
   "outputs": [],
   "source": []
  }
 ],
 "metadata": {
  "kernelspec": {
   "display_name": "Python 3 (ipykernel)",
   "language": "python",
   "name": "python3"
  },
  "language_info": {
   "codemirror_mode": {
    "name": "ipython",
    "version": 3
   },
   "file_extension": ".py",
   "mimetype": "text/x-python",
   "name": "python",
   "nbconvert_exporter": "python",
   "pygments_lexer": "ipython3",
   "version": "3.12.4"
  }
 },
 "nbformat": 4,
 "nbformat_minor": 5
}
