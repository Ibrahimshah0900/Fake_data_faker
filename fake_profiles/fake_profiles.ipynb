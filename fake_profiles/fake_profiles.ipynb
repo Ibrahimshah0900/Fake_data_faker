{
 "cells": [
  {
   "cell_type": "code",
   "execution_count": 1,
   "id": "6c3d15fe-239a-4fca-a709-df0a3e83db26",
   "metadata": {},
   "outputs": [],
   "source": [
    "import csv \n",
    "import json \n",
    "from faker import Faker "
   ]
  },
  {
   "cell_type": "code",
   "execution_count": 3,
   "id": "2487ad04-86d4-410f-90ff-dbf06a914530",
   "metadata": {},
   "outputs": [],
   "source": [
    "#initialize faker\n",
    "fake=Faker()"
   ]
  },
  {
   "cell_type": "code",
   "execution_count": 5,
   "id": "ce11563b-afff-4697-bf72-b78c8f516f82",
   "metadata": {},
   "outputs": [],
   "source": [
    "#number of profiles to be genrated \n",
    "NUM_PROFILES=1000"
   ]
  },
  {
   "cell_type": "code",
   "execution_count": 7,
   "id": "bd232e4f-7e68-4be4-8a1c-10f8c0ddadb8",
   "metadata": {},
   "outputs": [],
   "source": [
    "#list to store the genrated files \n",
    "profiles=[]"
   ]
  },
  {
   "cell_type": "code",
   "execution_count": 11,
   "id": "ae4175af-44eb-42ad-bdb5-a9e6cc8ea3d6",
   "metadata": {},
   "outputs": [],
   "source": [
    "# Generate fake user profiles\n",
    "for _ in range(NUM_PROFILES):\n",
    "    profile = {\n",
    "        \"name\": fake.name(),\n",
    "        \"email\": fake.email(),\n",
    "        \"phone_number\": fake.phone_number(),\n",
    "        \"address\": fake.address().replace(\"\\n\", \", \"),\n",
    "        \"birthdate\": fake.date_of_birth(minimum_age=18, maximum_age=90).isoformat(),\n",
    "        \"job\": fake.job(),\n",
    "    }\n",
    "    profiles.append(profile)"
   ]
  },
  {
   "cell_type": "code",
   "execution_count": 17,
   "id": "e67af144-8edf-4064-be56-b46d33e72a8d",
   "metadata": {},
   "outputs": [
    {
     "name": "stdout",
     "output_type": "stream",
     "text": [
      " Fake profiles has been genrated and saved to fake_profile.csv \n"
     ]
    }
   ],
   "source": [
    "# add all the fake data in to csv file \n",
    "csv_file=\"fake_profile.csv\"\n",
    "with open(csv_file,mode='w',newline=\"\",encoding=\"utf-8\") as file:\n",
    "    writer=csv.DictWriter(file,fieldnames=profiles[0].keys())\n",
    "    writer.writeheader()\n",
    "    writer.writerows(profiles)\n",
    "\n",
    "print(f\" Fake profiles has been genrated and saved to {csv_file} \")"
   ]
  },
  {
   "cell_type": "code",
   "execution_count": null,
   "id": "5f9db4b0-32b7-4442-8753-355b0f902449",
   "metadata": {},
   "outputs": [],
   "source": [
    "\n",
    "\n",
    "# Export to CSV\n",
    "csv_file = \"fake_profiles.csv\"\n",
    "with open(csv_file, mode=\"w\", newline=\"\", encoding=\"utf-8\") as file:\n",
    "    writer = csv.DictWriter(file, fieldnames=profiles[0].keys())\n",
    "    writer.writeheader()\n",
    "    writer.writerows(profiles)\n",
    "\n",
    "# Export to JSON\n",
    "json_file = \"fake_profiles.json\"\n",
    "with open(json_file, mode=\"w\", encoding=\"utf-8\") as file:\n",
    "    json.dump(profiles, file, indent=4)\n",
    "\n",
    "print(f\"Fake profiles generated and saved to {csv_file} and {json_file}\")\n"
   ]
  }
 ],
 "metadata": {
  "kernelspec": {
   "display_name": "Python 3 (ipykernel)",
   "language": "python",
   "name": "python3"
  },
  "language_info": {
   "codemirror_mode": {
    "name": "ipython",
    "version": 3
   },
   "file_extension": ".py",
   "mimetype": "text/x-python",
   "name": "python",
   "nbconvert_exporter": "python",
   "pygments_lexer": "ipython3",
   "version": "3.12.4"
  }
 },
 "nbformat": 4,
 "nbformat_minor": 5
}
